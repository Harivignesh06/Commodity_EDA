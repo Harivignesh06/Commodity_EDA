{
  "nbformat": 4,
  "nbformat_minor": 0,
  "metadata": {
    "colab": {
      "private_outputs": true,
      "provenance": [],
      "include_colab_link": true
    },
    "kernelspec": {
      "name": "python3",
      "display_name": "Python 3"
    },
    "language_info": {
      "name": "python"
    }
  },
  "cells": [
    {
      "cell_type": "markdown",
      "metadata": {
        "id": "view-in-github",
        "colab_type": "text"
      },
      "source": [
        "<a href=\"https://colab.research.google.com/github/Harivignesh06/Commodity_EDA/blob/main/Commodity_Trading_EDA_Project.ipynb\" target=\"_parent\"><img src=\"https://colab.research.google.com/assets/colab-badge.svg\" alt=\"Open In Colab\"/></a>"
      ]
    },
    {
      "cell_type": "markdown",
      "source": [
        "# **Commodity Dataset EDA**\n"
      ],
      "metadata": {
        "id": "vncDsAP0Gaoa"
      }
    },
    {
      "cell_type": "markdown",
      "source": [
        "#### **Business Objective**"
      ],
      "metadata": {
        "id": "PH-0ReGfmX4f"
      }
    },
    {
      "cell_type": "markdown",
      "source": [
        "**The goal of this project is to analyze the performance of key commodities from the year 2000 to 2023 in order to identify the most suitable commodity for investment. The study focuses on evaluating risk, return, volatility, and diversification opportunities to provide data-driven recommendations on which commodity offers the best balance between safety and profitability.**\n",
        "\n",
        "---\n",
        "\n"
      ],
      "metadata": {
        "id": "PhDvGCAqmjP1"
      }
    },
    {
      "cell_type": "markdown",
      "source": [
        "## ***Know the Data***"
      ],
      "metadata": {
        "id": "HhfV-JJviCcP"
      }
    },
    {
      "cell_type": "markdown",
      "source": [
        "### Import Libraries"
      ],
      "metadata": {
        "id": "Y3lxredqlCYt"
      }
    },
    {
      "cell_type": "code",
      "source": [
        "# Import Libraries\n",
        "import numpy as np\n",
        "import pandas as pd\n",
        "from numpy import loadtxt\n",
        "import seaborn as sns\n",
        "import matplotlib.pyplot as plt\n",
        "%matplotlib inline\n"
      ],
      "metadata": {
        "id": "M8Vqi-pPk-HR"
      },
      "execution_count": null,
      "outputs": []
    },
    {
      "cell_type": "markdown",
      "source": [
        "### Dataset Loading"
      ],
      "metadata": {
        "id": "3RnN4peoiCZX"
      }
    },
    {
      "cell_type": "code",
      "source": [
        "from google.colab import drive\n",
        "drive.mount('/content/drive')"
      ],
      "metadata": {
        "id": "6zhue60CaflG"
      },
      "execution_count": null,
      "outputs": []
    },
    {
      "cell_type": "code",
      "source": [
        "import pandas as pd\n",
        "dataset = pd.read_csv('/content/drive/MyDrive/PROJECTS/Commodity/Commodity_Dataset_MySQL.csv')"
      ],
      "metadata": {
        "id": "3V72R6ulahhw"
      },
      "execution_count": null,
      "outputs": []
    },
    {
      "cell_type": "markdown",
      "source": [
        "### Dataset First View"
      ],
      "metadata": {
        "id": "x71ZqKXriCWQ"
      }
    },
    {
      "cell_type": "code",
      "source": [
        "# Dataset First\n",
        "dataset.head()"
      ],
      "metadata": {
        "id": "LWNFOSvLl09H"
      },
      "execution_count": null,
      "outputs": []
    },
    {
      "cell_type": "code",
      "source": [
        "# Dataset last\n",
        "dataset.tail()"
      ],
      "metadata": {
        "id": "7K_a6UlhcDwL"
      },
      "execution_count": null,
      "outputs": []
    },
    {
      "cell_type": "markdown",
      "source": [
        "### Dataset Rows & Columns count"
      ],
      "metadata": {
        "id": "7hBIi_osiCS2"
      }
    },
    {
      "cell_type": "code",
      "source": [
        "# Dataset Rows & Columns\n",
        "dataset.shape"
      ],
      "metadata": {
        "id": "Kllu7SJgmLij"
      },
      "execution_count": null,
      "outputs": []
    },
    {
      "cell_type": "markdown",
      "source": [
        "### Dataset Information"
      ],
      "metadata": {
        "id": "JlHwYmJAmNHm"
      }
    },
    {
      "cell_type": "code",
      "source": [
        "#Keeping only the rows I need :\n",
        "df = dataset.drop(columns=dataset.columns.difference(['Date','GOLD', 'COPPER','NICKEL']))\n",
        "\n",
        "# Dataset Info\n",
        "df.info()"
      ],
      "metadata": {
        "id": "e9hRXRi6meOf"
      },
      "execution_count": null,
      "outputs": []
    },
    {
      "cell_type": "code",
      "source": [
        "#Checking for the Shape again...\n",
        "df.shape"
      ],
      "metadata": {
        "id": "f0QOksnPlNAy"
      },
      "execution_count": null,
      "outputs": []
    },
    {
      "cell_type": "code",
      "source": [
        "#Checking the number of rows duplicated\n",
        "\n",
        "dfdup = len(df[df.duplicated()])\n",
        "\n",
        "dfdup"
      ],
      "metadata": {
        "id": "HL1q3KsNlc56"
      },
      "execution_count": null,
      "outputs": []
    },
    {
      "cell_type": "markdown",
      "source": [
        "#### Missing Values/Null Values"
      ],
      "metadata": {
        "id": "PoPl-ycgm1ru"
      }
    },
    {
      "cell_type": "code",
      "source": [
        "# Missing Values/Null Values Count\n",
        "print(df.isnull().sum())"
      ],
      "metadata": {
        "id": "GgHWkxvamxVg"
      },
      "execution_count": null,
      "outputs": []
    },
    {
      "cell_type": "code",
      "source": [
        "# Visualizing the missing values\n",
        "# Checking Null Value by plotting Heatmap\n",
        "sns.heatmap(df.isnull(), cbar=False)"
      ],
      "metadata": {
        "id": "3q5wnI3om9sJ"
      },
      "execution_count": null,
      "outputs": []
    },
    {
      "cell_type": "markdown",
      "source": [
        "**What I know about my Dataset!!!**\n",
        "\n",
        "The dataset contains 6,092 rows and 4 columns, covering commodity price data from 2000 to 2023. It includes a Date column and three commodity price columns stored as floating-point values.\n",
        "\n",
        "There are no duplicate records, though the dataset does contain some missing (null) values that need to be addressed during preprocessing."
      ],
      "metadata": {
        "id": "gfoNAAC-nUe_"
      }
    },
    {
      "cell_type": "markdown",
      "source": [
        "## ***Understanding the Variables***"
      ],
      "metadata": {
        "id": "nA9Y7ga8ng1Z"
      }
    },
    {
      "cell_type": "code",
      "source": [
        "# Dataset Columns\n",
        "df.columns"
      ],
      "metadata": {
        "id": "n87BaXA_42-R"
      },
      "execution_count": null,
      "outputs": []
    },
    {
      "cell_type": "code",
      "source": [
        "# Dataset Describe\n",
        "df.describe(include='all')"
      ],
      "metadata": {
        "id": "DnOaZdaE5Q5t"
      },
      "execution_count": null,
      "outputs": []
    },
    {
      "cell_type": "markdown",
      "source": [
        "### Check Unique Values for each variable."
      ],
      "metadata": {
        "id": "u3PMJOP6ngxN"
      }
    },
    {
      "cell_type": "code",
      "source": [
        "# Check Unique Values for each variable.\n",
        "for i in df.columns.tolist():\n",
        "  print(\"No. of unique values in \",i,\"is\",df[i].nunique(),\".\")"
      ],
      "metadata": {
        "id": "zms12Yq5n-jE"
      },
      "execution_count": null,
      "outputs": []
    },
    {
      "cell_type": "markdown",
      "source": [
        "## ***Data Wrangling & Visualization***"
      ],
      "metadata": {
        "id": "dauF4eBmngu3"
      }
    },
    {
      "cell_type": "markdown",
      "source": [
        "### Data Wrangling Code"
      ],
      "metadata": {
        "id": "bKJF3rekwFvQ"
      }
    },
    {
      "cell_type": "code",
      "source": [
        "# Dataset Info\n",
        "df.info()"
      ],
      "metadata": {
        "id": "wk-9a2fpoLcV"
      },
      "execution_count": null,
      "outputs": []
    },
    {
      "cell_type": "markdown",
      "source": [
        "## **1. Yearly Prices over time**\n",
        "\n"
      ],
      "metadata": {
        "id": "YU96VQqCwjS2"
      }
    },
    {
      "cell_type": "code",
      "source": [
        "#GOLD Prices over time\n",
        "\n",
        "df['Date'] = pd.to_datetime(df['Date'], dayfirst=True)\n",
        "\n",
        "# Extract year and group by it (mean of GOLD values per year)\n",
        "df_yearly = df.groupby(df['Date'].dt.year)['GOLD'].mean()\n",
        "\n",
        "# Plot bar chart\n",
        "plt.bar(df_yearly.index, df_yearly.values)\n",
        "plt.xlabel('Year')\n",
        "plt.ylabel('GOLD (mean)')\n",
        "plt.title('GOLD Values by Year')\n",
        "plt.show()"
      ],
      "metadata": {
        "id": "-d-_JWvIbpZn"
      },
      "execution_count": null,
      "outputs": []
    },
    {
      "cell_type": "code",
      "source": [
        "#NICKEL Prices over time\n",
        "\n",
        "df['Date'] = pd.to_datetime(df['Date'], dayfirst=True)\n",
        "\n",
        "# Extract year and group by it (mean of NICKEL values per year)\n",
        "df_yearly = df.groupby(df['Date'].dt.year)['NICKEL'].mean()\n",
        "\n",
        "# Plot bar chart\n",
        "plt.bar(df_yearly.index, df_yearly.values)\n",
        "plt.xlabel('Year')\n",
        "plt.ylabel('NICKEL (mean)')\n",
        "plt.title('NICKEL Values by Year')\n",
        "plt.show()"
      ],
      "metadata": {
        "id": "3a4g-R2grhTu"
      },
      "execution_count": null,
      "outputs": []
    },
    {
      "cell_type": "code",
      "source": [
        "#COFFEE Prices over time\n",
        "\n",
        "df['Date'] = pd.to_datetime(df['Date'], dayfirst=True)\n",
        "\n",
        "# Extract year and group by it (mean of COPPER values per year)\n",
        "df_yearly = df.groupby(df['Date'].dt.year)['COPPER'].mean()\n",
        "\n",
        "# Plot bar chart\n",
        "plt.bar(df_yearly.index, df_yearly.values)\n",
        "plt.xlabel('Year')\n",
        "plt.ylabel('COPPER (mean)')\n",
        "plt.title('COPPER Values by Year')\n",
        "plt.show()"
      ],
      "metadata": {
        "id": "SC1zvvOfrhG9"
      },
      "execution_count": null,
      "outputs": []
    },
    {
      "cell_type": "markdown",
      "source": [
        "## 2. Comparision Between three Commodities"
      ],
      "metadata": {
        "id": "_rM66RYqw89y"
      }
    },
    {
      "cell_type": "code",
      "source": [
        "#Plotting all three commodity together\n",
        "\n",
        "plt.figure(figsize=(14,6))\n",
        "plt.plot(df.index, df['NICKEL'], label='Nickel')\n",
        "plt.plot(df.index, df['GOLD'], label='Gold')\n",
        "plt.plot(df.index, df['COPPER'], label='Copper')\n",
        "plt.title(\"Commodity Prices Over Time (2000–2023)\")\n",
        "plt.xlabel(\"Date\")\n",
        "plt.ylabel(\"Price\")\n",
        "plt.legend()\n",
        "plt.show()"
      ],
      "metadata": {
        "id": "DvRdPEXbpdWx"
      },
      "execution_count": null,
      "outputs": []
    },
    {
      "cell_type": "code",
      "source": [
        "# Plotting GOLD and COPPER separately for easy visibility\n",
        "\n",
        "plt.figure(figsize=(14,6))\n",
        "plt.plot(df.index, df['GOLD'], label='Gold')\n",
        "plt.plot(df.index, df['COPPER'], label='Copper')\n",
        "plt.title(\"Commodity Prices Over Time for GOLD and COPPER (2000–2023)\")\n",
        "plt.xlabel(\"Date\")\n",
        "plt.ylabel(\"Price\")\n",
        "plt.legend()\n",
        "plt.show()"
      ],
      "metadata": {
        "id": "E3z431IzscPz"
      },
      "execution_count": null,
      "outputs": []
    },
    {
      "cell_type": "markdown",
      "source": [
        "## 3. Distribution of Daily returns (Risk Profile)"
      ],
      "metadata": {
        "id": "knMBNNUTxcn3"
      }
    },
    {
      "cell_type": "code",
      "source": [
        "# Select only numerical columns for percentage change calculation\n",
        "df_numeric = df.select_dtypes(include=np.number)\n",
        "\n",
        "#Finding the difference between previous day value\n",
        "returns = df_numeric.pct_change()\n",
        "\n",
        "#Plotting in Histogram\n",
        "plt.figure(figsize=(16,8))\n",
        "returns.hist(bins=100, figsize=(16,8))\n",
        "plt.suptitle(\"Distribution of Daily Returns\", fontsize=16)\n",
        "plt.show()"
      ],
      "metadata": {
        "id": "PGROPzmlua2w"
      },
      "execution_count": null,
      "outputs": []
    },
    {
      "cell_type": "markdown",
      "source": [
        "## 4. Volatility Over past 30 days period"
      ],
      "metadata": {
        "id": "D2QKTtVl90ih"
      }
    },
    {
      "cell_type": "code",
      "source": [
        "#Finding Standard Deviation\n",
        "rolling_vol = returns.rolling(window=30).std()\n",
        "\n",
        "plt.figure(figsize=(14,6))\n",
        "plt.plot(df['Date'], rolling_vol['GOLD'], label='Gold',color ='gold')\n",
        "plt.plot(df['Date'], rolling_vol['NICKEL'], label='Nickel', color ='dimgrey')\n",
        "plt.plot(df['Date'], rolling_vol['COPPER'], label='Copper',color = 'firebrick')\n",
        "plt.title(\"30-Day Rolling Volatility\")\n",
        "plt.xlabel(\"Date\")\n",
        "plt.ylabel(\"Volatility (Std Dev of Returns)\")\n",
        "plt.legend()\n",
        "plt.show()"
      ],
      "metadata": {
        "id": "Rvs-nHFNuvVF"
      },
      "execution_count": null,
      "outputs": []
    },
    {
      "cell_type": "code",
      "source": [
        "#Plotting the figure for Commodity - GOLD\n",
        "plt.figure(figsize=(14,6))\n",
        "plt.plot(df['Date'], rolling_vol['GOLD'], label='Gold',color ='gold')\n",
        "plt.title(\"30-Day Rolling Volatility\")\n",
        "plt.xlabel(\"Date\")\n",
        "plt.ylabel(\"Volatility (Std Dev of Returns)\")\n",
        "plt.legend()\n",
        "plt.show()"
      ],
      "metadata": {
        "id": "cgr40CHn6vTK"
      },
      "execution_count": null,
      "outputs": []
    },
    {
      "cell_type": "code",
      "source": [
        "#Plotting the figure for Commodity - NICKEL\n",
        "\n",
        "plt.figure(figsize=(14,6))\n",
        "plt.plot(df['Date'], rolling_vol['NICKEL'], label='Nickel', color ='dimgrey')\n",
        "plt.title(\"30-Day Rolling Volatility\")\n",
        "plt.xlabel(\"Date\")\n",
        "plt.ylabel(\"Volatility (Std Dev of Returns)\")\n",
        "plt.legend()\n",
        "plt.show()"
      ],
      "metadata": {
        "id": "tdxyBZ1h6zwd"
      },
      "execution_count": null,
      "outputs": []
    },
    {
      "cell_type": "code",
      "source": [
        "#Plotting the figure for Commodity - COPPER\n",
        "\n",
        "plt.figure(figsize=(14,6))\n",
        "plt.plot(rolling_vol.index, rolling_vol['COPPER'], label='Copper',color = 'firebrick')\n",
        "plt.title(\"30-Day Rolling Volatility\")\n",
        "plt.xlabel(\"Date\")\n",
        "plt.ylabel(\"Volatility (Std Dev of Returns)\")\n",
        "plt.legend()\n",
        "plt.show()"
      ],
      "metadata": {
        "id": "SkzlkTfs60SW"
      },
      "execution_count": null,
      "outputs": []
    },
    {
      "cell_type": "code",
      "source": [
        "#Finding Volatility for the latest 30 days in the dataset\n",
        "last_30d_vol = returns.tail(30).std()\n",
        "print(\"Last 30-day volatility:\")\n",
        "print(last_30d_vol)\n",
        "\n",
        "# Creating a DataFrame from the Series and reseting the index\n",
        "last_30d_vol_df = last_30d_vol.reset_index()\n",
        "last_30d_vol_df.columns = ['Commodity', 'Volatility']\n",
        "\n",
        "\n",
        "# Used a barplot to visualize the volatility of each commodity\n",
        "plt.figure(figsize=(8, 6))\n",
        "sns.barplot(x='Commodity', y='Volatility', data=last_30d_vol_df)\n",
        "plt.title(\"Last 30-day Volatility by Commodity\")\n",
        "plt.xlabel(\"Commodity\")\n",
        "plt.ylabel(\"Volatility (Std Dev of Returns)\")\n",
        "plt.show()"
      ],
      "metadata": {
        "id": "Rk6wBi_TDMTp"
      },
      "execution_count": null,
      "outputs": []
    },
    {
      "cell_type": "markdown",
      "source": [
        "## 5. Correlation between each Commodity"
      ],
      "metadata": {
        "id": "kv4MjrzR_91A"
      }
    },
    {
      "cell_type": "code",
      "source": [
        "#Assigning Returns value to Correlation Function\n",
        "corr_matrix = returns.corr()\n",
        "\n",
        "#Plotting the Heatmap\n",
        "plt.figure(figsize=(8,6))\n",
        "sns.heatmap(corr_matrix, annot=True, cmap=\"coolwarm\", center=0)\n",
        "plt.title(\"Correlation Heatmap of Daily Returns\")\n",
        "plt.show()"
      ],
      "metadata": {
        "id": "EwfgL1Gtu_5W"
      },
      "execution_count": null,
      "outputs": []
    },
    {
      "cell_type": "markdown",
      "source": [
        "# **Conclusion**"
      ],
      "metadata": {
        "id": "gCX9965dhzqZ"
      }
    },
    {
      "cell_type": "markdown",
      "source": [
        "*  **Gold** emerges as the most stable commodity, offering **low risk** and consistent returns, making it an ideal safe-haven investment.\n",
        "\n",
        "*  **Copper** carries a **moderate level of risk**, showing higher volatility than gold but still more stable than nickel. Its price movements are often linked to industrial demand and global economic cycles.\n",
        "\n",
        "*  **Nickel** shows the **highest volatility**, with sharp daily price swings, making it suitable only for high-risk strategies.\n",
        "\n",
        "*  **Low-correlation commodities** can be **combined** to build diversified portfolios and **reduce overall risk exposure**.\n",
        "\n",
        "*  **Rolling volatility** analysis helps identify periods of heightened risk, providing valuable signals for **timing entry and exit decisions**."
      ],
      "metadata": {
        "id": "pASKb0qOza21"
      }
    }
  ]
}